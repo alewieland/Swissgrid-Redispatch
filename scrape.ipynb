{
 "cells": [
  {
   "cell_type": "markdown",
   "id": "ab9be767-0ea7-49a3-b49b-5a9e32cef824",
   "metadata": {},
   "source": [
    "# Scrape Redispatch\n",
    "### Small ipynb to scrape the redispatch measures and store them as a time series"
   ]
  },
  {
   "cell_type": "code",
   "execution_count": 1,
   "id": "9a7cc26e-50f7-4ef4-81a8-7b83fd4da6a2",
   "metadata": {},
   "outputs": [],
   "source": [
    "import os\n",
    "import requests\n",
    "import zipfile\n",
    "import shutil\n",
    "\n",
    "\n",
    "import pandas as pd"
   ]
  },
  {
   "cell_type": "code",
   "execution_count": 2,
   "id": "13b5d254-e1a9-4018-8d36-a6d290748ec9",
   "metadata": {},
   "outputs": [],
   "source": [
    "#function to get a df from a zip folder from the siwssgrid homepage\n",
    "def get_redispatch(url):\n",
    "    req = requests.get(url)\n",
    "    tempfolder = 'zipfolder.zip'\n",
    "    unzip = 'unzip/'\n",
    "    os.mkdir(unzip)\n",
    "    with open(tempfolder, 'wb') as f:\n",
    "        f.write(req.content)\n",
    "\n",
    "    with zipfile.ZipFile(tempfolder,\"r\") as zip_ref:\n",
    "        zip_ref.extractall(unzip)\n",
    "\n",
    "    files = os.listdir(unzip)\n",
    "\n",
    "    df = pd.DataFrame()\n",
    "    for file in files:\n",
    "        tdf = pd.read_csv(unzip + file, sep = ';' ,encoding = \"ISO-8859-1\",engine='python')\n",
    "        df = pd.concat([df, tdf])\n",
    "    shutil.rmtree(unzip)\n",
    "    os.remove(tempfolder)\n",
    "    return df\n"
   ]
  },
  {
   "cell_type": "code",
   "execution_count": 3,
   "id": "18cd9335-b649-45de-9b32-a8105da1dc33",
   "metadata": {},
   "outputs": [],
   "source": [
    "urls = ['https://www.swissgrid.ch/dam/swissgrid/customers/topics/redispatch/redispatch-archiv-2020.zip',\n",
    "        'https://www.swissgrid.ch/dam/swissgrid/customers/topics/redispatch/redispatch-archiv-2021.zip',\n",
    "        'https://www.swissgrid.ch/en/home/customers/topics/redispatch/_jcr_content/parsys/dynamicdownloadlist.downloadall.zip'\n",
    "        ]\n",
    "\n",
    "df = pd.DataFrame()\n",
    "\n",
    "for url in urls:  \n",
    "    rdf = get_redispatch(url)\n",
    "    df = pd.concat([df, rdf])\n",
    "\n",
    "df['Datum']= pd.to_datetime(df['Datum'], dayfirst=True)\n",
    "df = df.sort_values(by='Datum')\n",
    "df = df.reset_index(drop=True)\n",
    "df.to_parquet('redis.parquet.gzip', compression='gzip')\n",
    "df.to_csv('redis.csv')"
   ]
  },
  {
   "cell_type": "code",
   "execution_count": null,
   "id": "bc0b801d-e7f7-4528-ba07-227cb6db21dd",
   "metadata": {
    "scrolled": true
   },
   "outputs": [],
   "source": []
  },
  {
   "cell_type": "code",
   "execution_count": 7,
   "id": "5cff197b-d1c3-4a81-bdea-b2729726e13d",
   "metadata": {},
   "outputs": [],
   "source": [
    "df_old = pd.read_csv('archiv/redis2019-2021.csv', index_col=0)\n",
    "\n",
    "t = pd.concat([df, df_old], join=\"outer\", ignore_index=True)\n",
    "t['Datum'] = pd.to_datetime(t['Datum'], dayfirst=True)\n",
    "t = t.drop_duplicates().sort_values(by='Datum').reset_index(drop=True)"
   ]
  },
  {
   "cell_type": "code",
   "execution_count": 49,
   "id": "948ea4cf",
   "metadata": {},
   "outputs": [],
   "source": [
    "t.to_csv('redispatch_switzerland_19_22-10-02.csv')"
   ]
  }
 ],
 "metadata": {
  "kernelspec": {
   "display_name": "Python 3 (ipykernel)",
   "language": "python",
   "name": "python3"
  },
  "language_info": {
   "codemirror_mode": {
    "name": "ipython",
    "version": 3
   },
   "file_extension": ".py",
   "mimetype": "text/x-python",
   "name": "python",
   "nbconvert_exporter": "python",
   "pygments_lexer": "ipython3",
   "version": "3.9.12"
  }
 },
 "nbformat": 4,
 "nbformat_minor": 5
}
